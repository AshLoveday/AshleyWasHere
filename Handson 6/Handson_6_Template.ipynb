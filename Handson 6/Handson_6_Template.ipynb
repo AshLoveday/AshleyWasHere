{
 "cells": [
  {
   "cell_type": "markdown",
   "metadata": {},
   "source": [
    "# Dictionaries\n",
    "\n",
    "To submit this assignment in D2l, post the link to your notebook file on your GitHub account."
   ]
  },
  {
   "cell_type": "markdown",
   "metadata": {},
   "source": [
    "## 12.1 Champion Counter\n",
    "Create a program that reads a text file that contains a list of FIFA World Cup champions and determines the country that has won the most championships.\n",
    "\n",
    "### Console:\n",
    "```powershell\n",
    "Country\t        Wins\tYears\t\n",
    "=======\t        ====\t=====\t\n",
    "Argentina       2       1978, 1986\n",
    "Brazil\t        5       1958, 1962, 1970, 1994, 2002\n",
    "England\t        1       1966\t\t\n",
    "France\t        1       1998\t\t\n",
    "Germany\t        4       1954, 1974, 1990, 2014\n",
    "Italy\t        4       1934, 1938, 1982, 2006\n",
    "Spain\t        1       2010\n",
    "Uruguay\t        2       1930, 1950\n",
    "```\n",
    "\n",
    "### Specifications:\n",
    "- Use the attached text file named `world_cup_champions.txt` that contains data like this: \n",
    "```powershell\n",
    "Year,Country,Coach,Captain \n",
    "1930,Uruguay,Alberto Suppici,José Nasazzi \n",
    "1934,Italy,Vittorio Pozzo,Gianpiero Combi \n",
    "1938,Italy,Vittorio Pozzo,Giuseppe Meazza\n",
    "...\n",
    "```\n",
    "- When the program starts, it should read the text file and use a dictionary to store the required data using the name of each country that has won the World Cup as the key.\n",
    "- The program should compile the data shown above and display the countries alphabetically.\n",
    "\n"
   ]
  },
  {
   "cell_type": "code",
   "execution_count": 34,
   "metadata": {
    "tags": []
   },
   "outputs": [
    {
     "name": "stdout",
     "output_type": "stream",
     "text": [
      "Country\t\tWins\tYears\n",
      "=======\t\t====\t=====\n",
      "Argentina\t2\t1978, 1986, \n",
      "Brazil\t\t5\t1958, 1962, 1970, 1994, 2002, \n",
      "England\t\t1\t1966, \n",
      "France\t\t1\t1998, \n",
      "Germany\t\t4\t1954, 1974, 1990, 2014, \n",
      "Italy\t\t4\t1934, 1938, 1982, 2006, \n",
      "Spain\t\t1\t2010, \n",
      "Uruguay\t\t2\t1930, 1950, \n"
     ]
    }
   ],
   "source": [
    "### CODE HERE ###\n",
    "import csv\n",
    "worldCups = []\n",
    "with open(\"world_cup_champions.txt\") as file:\n",
    "    reader = csv.reader(file)\n",
    "    for row in reader:\n",
    "        worldCups.append(row)\n",
    "del worldCups[0]\n",
    "#print(worldCups)\n",
    "champions = {}\n",
    "for cup in worldCups:\n",
    "    key = cup[1]\n",
    "    if key in champions:\n",
    "        name = champions.get(key).get(\"name\")\n",
    "        wins = champions.get(key).get(\"wins\") + 1\n",
    "        champions.get(key).get(\"years\").append(cup[0])\n",
    "        champ = {key : name, \"wins\" : wins, \"years\" : champions.get(key).get(\"years\")}\n",
    "    else:\n",
    "        name = key \n",
    "        years = []\n",
    "        wins = 1\n",
    "        years.append(cup[0])\n",
    "        champ = {key : name, \"wins\" : wins, \"years\" : years}\n",
    "    \n",
    "    champions[key] = champ\n",
    "champKeys = list(champions.keys())\n",
    "champKeys.sort()\n",
    "\n",
    "print(\"Country\\t\\tWins\\tYears\")\n",
    "print(\"=======\\t\\t====\\t=====\")\n",
    "for key in champKeys:\n",
    "    years = \"\"\n",
    "    for year in champions[key]['years']:\n",
    "        years += year + \", \"\n",
    "    if (len(key) >= 8):\n",
    "        print(key + \"\\t\" + str(champions[key]['wins']) + \"\\t\" + years)\n",
    "    else:\n",
    "        print(key + \"\\t\\t\" + str(champions[key]['wins']) + \"\\t\" + years)\n",
    "        "
   ]
  },
  {
   "cell_type": "markdown",
   "metadata": {},
   "source": [
    "## 12.2 Monthly Sales\n",
    "Create a program that allows you to view and edit the sales amounts for each month of the current year.\n",
    "\n",
    "### Console:\n",
    "```powershell\n",
    "Monthly Sales program\n",
    "\n",
    "COMMAND MENU\n",
    "view\t- View sales for specified month \n",
    "edit\t- Edit sales for specified month \n",
    "totals - View sales summary for year \n",
    "exit\t- Exit program\n",
    "\n",
    "Command: view\n",
    "Three-letter Month: jan\n",
    "Sales amount for Jan is 14,317.00.\n",
    "\n",
    "Command: edit\n",
    "Three-letter Month: jan \n",
    "Sales Amount: 15293\n",
    "Sales amount for Jan is 15,293.00.\n",
    "\n",
    "Command: totals\n",
    "Yearly total: 67,855.00\n",
    "Monthly average: 0\n",
    "\n",
    "Command: view\n",
    "Three-letter Month: july \n",
    "Invalid three-letter month.\n",
    "\n",
    "Command: exit Bye!\n",
    "```\n",
    "\n",
    "### Specifications:\n",
    "- Use the attached text file named `monthly_sales.txt` that consists of rows that contain three-letter abbreviations for the month and the monthly sales.\n",
    "- The program should read the file and store the sales data for each month in a dictionary with the month abbreviation as the key for each item.\n",
    "- Whenever the sales data is edited, the program should write the changed data to the text file.\n",
    "\n",
    "\n"
   ]
  },
  {
   "cell_type": "code",
   "execution_count": 37,
   "metadata": {
    "tags": []
   },
   "outputs": [],
   "source": [
    "### CODE HERE ###"
   ]
  },
  {
   "cell_type": "code",
   "execution_count": null,
   "metadata": {},
   "outputs": [
    {
     "name": "stdout",
     "output_type": "stream",
     "text": [
      "Monthly Sales program\n",
      "\n",
      "COMMAND MENU\n",
      "View\n",
      "Edit\n",
      "Totals\n",
      "Exit\n"
     ]
    },
    {
     "name": "stdin",
     "output_type": "stream",
     "text": [
      "Command: totals\n"
     ]
    },
    {
     "name": "stdout",
     "output_type": "stream",
     "text": [
      "Yearly total:66878\n",
      "Monthly average:5573.17\n",
      "\n",
      "COMMAND MENU\n",
      "View\n",
      "Edit\n",
      "Totals\n",
      "Exit\n"
     ]
    }
   ],
   "source": [
    "def getDict():\n",
    "    months = {}\n",
    "    with open(\"monthly_sales.txt\") as file:\n",
    "        for line in file:\n",
    "            line = line.replace(\"\\t\", \" \")\n",
    "            l = line.split()\n",
    "            key = l[0]\n",
    "            sales = l[1]\n",
    "            months[key] = sales\n",
    "    return months\n",
    "\n",
    "def updateFile(diction):\n",
    "    with open(\"monthly_sales.txt\", \"w\") as file:\n",
    "        for key in diction:\n",
    "            file.write(str(key) + \" \" + str(diction[key]) + \"\\n\")\n",
    "\n",
    "def salesView():\n",
    "    diction = getDict()\n",
    "    three = input(\"Three-letter Month:\").capitalize()\n",
    "    if three in diction:\n",
    "        print(\"Sales amount for \" + three + \" is \" + round(diction[three], 2))\n",
    "    else:\n",
    "        print(\"Invalid three-letter month.\")\n",
    "\n",
    "def salesEdit():\n",
    "    diction = getDict()\n",
    "    three = input(\"Three-letter Month:\").capitalize()\n",
    "    sales = int(input(\"Sales Amount:\"))\n",
    "    if three in diction:\n",
    "        diction[three] = sales\n",
    "        updateFile(diction)\n",
    "        print(\"Sales amount for \" + three + \" is \" + str(round(diction[three], 2)))\n",
    "    else:\n",
    "        print(\"Invalid three-letter month.\")\n",
    "        \n",
    "def salesTotals():\n",
    "    diction = getDict()\n",
    "    total = 0\n",
    "    avg = 0\n",
    "    for sale in diction.keys():\n",
    "        total += int(diction[sale])\n",
    "    avg = total / len(diction)\n",
    "    print(\"Yearly total: \" + str(round(total, 2)))\n",
    "    print(\"Monthly average: \" + str(round(avg, 2)))\n",
    "\n",
    "def main():\n",
    "    print(\"Monthly Sales program\")\n",
    "    command = \"\"\n",
    "    while command!=\"exit\":\n",
    "        print(\"\\nCOMMAND MENU\")\n",
    "        print(\"View\")\n",
    "        print(\"Edit\")\n",
    "        print(\"Totals\")\n",
    "        print(\"Exit\")\n",
    "        command = input(\"Command:\").lower()\n",
    "\n",
    "        if command == \"view\":\n",
    "            salesView()\n",
    "        elif command == \"edit\":\n",
    "            salesEdit()\n",
    "        elif command == \"totals\":\n",
    "            salesTotals()\n",
    "        elif command == \"exit\":\n",
    "            break\n",
    "        else:\n",
    "            print(\"Invalid command\")\n",
    "    print(\"Bye!\")\n",
    "\n",
    "if __name__ == \"__main__\":\n",
    "    main()"
   ]
  },
  {
   "cell_type": "code",
   "execution_count": null,
   "metadata": {},
   "outputs": [],
   "source": []
  }
 ],
 "metadata": {
  "kernelspec": {
   "display_name": "Python 3 (ipykernel)",
   "language": "python",
   "name": "python3"
  },
  "language_info": {
   "codemirror_mode": {
    "name": "ipython",
    "version": 3
   },
   "file_extension": ".py",
   "mimetype": "text/x-python",
   "name": "python",
   "nbconvert_exporter": "python",
   "pygments_lexer": "ipython3",
   "version": "3.11.5"
  }
 },
 "nbformat": 4,
 "nbformat_minor": 4
}
