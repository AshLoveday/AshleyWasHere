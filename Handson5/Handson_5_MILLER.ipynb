{
 "cells": [
  {
   "cell_type": "markdown",
   "metadata": {},
   "source": [
    "# File Input\n",
    "\n",
    "To submit this assignment in D2l, post the link to your notebook file on your GitHub account."
   ]
  },
  {
   "cell_type": "markdown",
   "metadata": {},
   "source": [
    "## 7.1 Pig Dice Rules\n",
    "Create a program that reads a list of rules from a file and displays them.\n",
    "\n",
    "### Console:\n",
    "```powershell\n",
    "Pig Dice Rules:\n",
    "*\tSee how many turns it takes you to get to 20.\n",
    "*\tTurn ends when player rolls a 1 or chooses to hold.\n",
    "*\tIf you roll a 1, you lose all points earned during the turn.\n",
    "*\tIf you hold, you save all points earned during the turn.\n",
    "```\n",
    "\n",
    "### Specifications:\n",
    "- Use the attached text file named `pig_dice_rules.txt` in the corresponding Directory.\n",
    "- Your program should read the text file and display it on the console.\n"
   ]
  },
  {
   "cell_type": "code",
   "execution_count": 1,
   "metadata": {
    "tags": []
   },
   "outputs": [
    {
     "name": "stdout",
     "output_type": "stream",
     "text": [
      "Pig Dice Rules:\n",
      "* See how many turns it takes you to get to 20.\n",
      "* Turn ends when player rolls a 1 or chooses to hold.\n",
      "* If you roll a 1, you lose all points earned during the turn.\n",
      "* If you hold, you save all points earned during the turn."
     ]
    }
   ],
   "source": [
    "### CODE HERE ###\n",
    "with open(\"pig_dice_rules.txt\") as file:\n",
    "    for line in file:\n",
    "        print(line, end='')"
   ]
  },
  {
   "cell_type": "markdown",
   "metadata": {},
   "source": [
    "## 7.2 Wizard Inventory\n",
    "Create a program that keeps track of the items that a wizard can carry.\n",
    "\n",
    "### Console:\n",
    "```powershell\n",
    "The Wizard Inventroy Program\n",
    "\n",
    "COMMAND MENU\n",
    "walk - Walk down the path show - Show all items drop - Drop an item\n",
    "exit - Exit program\n",
    "\n",
    "Command: walk\n",
    "While walking down a path, you see a scroll of uncursing. Do you want to grab it? (y/n): y\n",
    "You picked up a scroll of uncursing.\n",
    "\n",
    "Command: walk\n",
    "While walking down a path, you see an unknown potion. Do you want to grab it? (y/n): y\n",
    "You can't carry any more items. Drop something first.\n",
    "\n",
    "Command: show\n",
    "1.\ta wooden staff\n",
    "2.\ta scroll of invisibility\n",
    "3.\ta crossbow\n",
    "4.\ta scroll of uncursing\n",
    "\n",
    "Command: drop Number: 3\n",
    "You dropped a crossbow.\n",
    "\n",
    "Command: exit Bye!\n",
    "```\n",
    "\n",
    "### Specifications:\n",
    "- Use the attached text file named `wizard_all_items.txt` that contains a list of all the items that a wizard can carry. (in the corresponding directory)\n",
    "- When the user selects the walk command, the program should read the items from the file, randomly pick one, and give the user the option to grab it.\n",
    "- Your program should create another file that stores the items that the wizard is carrying. Make sure to update this file every time the user grabs or drops an item.\n",
    "- The wizard can only carry four items at a time.\n",
    "- For the drop command, display an error message if the user enters an invalid number for the item.\n",
    "\n"
   ]
  },
  {
   "cell_type": "code",
   "execution_count": 19,
   "metadata": {},
   "outputs": [
    {
     "name": "stdout",
     "output_type": "stream",
     "text": [
      "The Wizard Inventroy Program\n",
      "COMMAND MENU\n",
      "walk - Walk down the path\n",
      "show - Show all items\n",
      "drop - Drop an item\n",
      "exit - Exit program\n"
     ]
    },
    {
     "name": "stdin",
     "output_type": "stream",
     "text": [
      "\n",
      "Command:  show\n"
     ]
    },
    {
     "name": "stdout",
     "output_type": "stream",
     "text": [
      "1 a wizard hat\n",
      "2 a cloak of invisibility\n"
     ]
    },
    {
     "name": "stdin",
     "output_type": "stream",
     "text": [
      "\n",
      "Command:  exit\n"
     ]
    },
    {
     "name": "stdout",
     "output_type": "stream",
     "text": [
      "\n",
      "Bye!\n"
     ]
    }
   ],
   "source": [
    "### CODE HERE ###\n",
    "import random\n",
    "\n",
    "allItems = []\n",
    "with open(\"wizard_all_items.txt\") as file:\n",
    "        for line in file:\n",
    "            line = line.replace(\"\\n\", \"\") # removes new line\n",
    "            allItems.append(line)\n",
    "        \n",
    "def updateInventory(invent):\n",
    "    for item in invent:\n",
    "        item.replace(\"\\n\", \"\")\n",
    "    with open(\"wizard_inventory.txt\", \"w\") as file:\n",
    "        for item in invent:\n",
    "            file.write(item + \"\\n\")\n",
    "            \n",
    "def walk(invent):\n",
    "    item = random.choice(allItems)\n",
    "    print(\"\\nWhile walking down a path, you see\", item)\n",
    "    choice = input(\"\\nDo you want to grab it? (y/n):\")\n",
    "    if choice == \"y\":\n",
    "        if (len(invent) >= 4):\n",
    "            print(\"You can't carry any more items. Drop something first.\")\n",
    "        else:\n",
    "            inventory.append(item)\n",
    "            updateInventory(inventory)\n",
    "            print(\"You picked up\", item)\n",
    "\n",
    "def show(invent):\n",
    "    count = 1\n",
    "    for item in invent:\n",
    "        print(count, \".\", item)\n",
    "        count += 1\n",
    "\n",
    "def drop(invent):\n",
    "    number = 100\n",
    "    while number > 4:\n",
    "        number = int(input(\"\\nNumber: \"))\n",
    "        if (number > 4 or number > len(invent)):\n",
    "            print(\"Not valid\")\n",
    "        else:\n",
    "            index = number - 1\n",
    "            item = inventory[index]\n",
    "            inventory.pop(index)\n",
    "            updateInventory(inventory)\n",
    "            print(\"You dropped up\", item)    \n",
    "\n",
    "print(\"The Wizard Inventroy Program\")\n",
    "print(\"COMMAND MENU\")\n",
    "print(\"walk - Walk down the path\")\n",
    "print(\"show - Show all items\")\n",
    "print(\"drop - Drop an item\")\n",
    "print(\"exit - Exit program\")\n",
    "\n",
    "command = \"\"\n",
    "while command != \"exit\":\n",
    "    inventory = []\n",
    "    with open(\"wizard_inventory.txt\") as file:\n",
    "        for line in file:\n",
    "            line = line.replace(\"\\n\", \"\") # removes new line\n",
    "            inventory.append(line)\n",
    "    command = input(\"\\nCommand: \")\n",
    "    if command == \"walk\":\n",
    "        walk(inventory)\n",
    "    elif command == \"show\":\n",
    "        show(inventory)\n",
    "    elif command == \"drop\":\n",
    "        drop(inventory)\n",
    "    elif command == \"exit\":\n",
    "        print(\"\\nBye!\")\n",
    "    else:\n",
    "        print(\"\\nInvalid input.\")"
   ]
  },
  {
   "cell_type": "markdown",
   "metadata": {
    "tags": []
   },
   "source": [
    "## 7.3 Monthly Sales\n",
    "Create a program that reads the sales for 12 months from a file and calculates the total yearly sales as well as the average monthly sales. In addition, this program should let the user edit the sales for any month.\n",
    "\n",
    "### Console:\n",
    "```powershell\n",
    "Monthly Sales program\n",
    "\n",
    "COMMAND MENU\n",
    "monthly - View monthly sales yearly\t- View yearly sumary edit\t- Edit sales for a month exit\t- Exit program\n",
    "\n",
    "Command: monthly Jan - 14317\n",
    "Feb - 3903\n",
    "Mar - 1073\n",
    "Apr - 3463\n",
    "May - 2429\n",
    "Jun - 4324\n",
    "Jul - 9762\n",
    "Aug - 15578\n",
    "Sep - 2437\n",
    "Oct - 6735\n",
    "Nov - 88\n",
    "Dec - 2497\n",
    "\n",
    "Command: yearly\n",
    "Yearly total:\t66606\n",
    "Monthly average:\t5550.5\n",
    "\n",
    "Command: edit\n",
    "Three-letter Month: Nov Sales Amount: 8854\n",
    "Sales amount for Nov was modified.\n",
    "\n",
    "Command: exit Bye!\n",
    "```\n",
    "\n",
    "### Specifications:\n",
    "- Use the attached text file named CSV file named `monthly_sales.csv` that contains the month and sales data shown above.\n",
    "- For the edit command, display an error message if the user doesn’t enter a valid three-letter abbreviation for the month.\n",
    "- When the user edits the sales amount for a month, the data should be saved to the CSV file immediately. That way, no data is lost, even if the program crashes later.\n",
    "- Round the results of the monthly average to a maximum of 2 decimal digits."
   ]
  },
  {
   "cell_type": "code",
   "execution_count": 34,
   "metadata": {
    "tags": []
   },
   "outputs": [
    {
     "name": "stdout",
     "output_type": "stream",
     "text": [
      "Monthly Sales program\n",
      "COMMAND MENU\n",
      "monthly - View monthly sales\n",
      "yearly \t- View yearly sumary\n",
      "edit \t- Edit sales for a month\n",
      "exit \t- Exit program\n"
     ]
    },
    {
     "name": "stdin",
     "output_type": "stream",
     "text": [
      "\n",
      "Command:  show\n"
     ]
    },
    {
     "name": "stdout",
     "output_type": "stream",
     "text": [
      "\n",
      "Invalid input.\n"
     ]
    },
    {
     "name": "stdin",
     "output_type": "stream",
     "text": [
      "\n",
      "Command:  monthly\n"
     ]
    },
    {
     "name": "stdout",
     "output_type": "stream",
     "text": [
      "Jan - 14317\n",
      "Feb - 3903\n",
      "Mar - 1073\n",
      "Apr - 3463\n",
      "May - 2429\n",
      "Jun - 4324\n",
      "Jul - 9762\n",
      "Aug - 15578\n",
      "Sep - 2437\n",
      "Oct - 6735\n",
      "Nov - 100\n",
      "Dec - 2497\n"
     ]
    },
    {
     "name": "stdin",
     "output_type": "stream",
     "text": [
      "\n",
      "Command:  edit\n",
      "Three-letter Month: x\n",
      "Sales Amount: a\n"
     ]
    },
    {
     "ename": "ValueError",
     "evalue": "invalid literal for int() with base 10: 'a'",
     "output_type": "error",
     "traceback": [
      "\u001b[1;31m---------------------------------------------------------------------------\u001b[0m",
      "\u001b[1;31mValueError\u001b[0m                                Traceback (most recent call last)",
      "Cell \u001b[1;32mIn[34], line 70\u001b[0m\n\u001b[0;32m     68\u001b[0m     yearly()\n\u001b[0;32m     69\u001b[0m \u001b[38;5;28;01melif\u001b[39;00m command \u001b[38;5;241m==\u001b[39m \u001b[38;5;124m\"\u001b[39m\u001b[38;5;124medit\u001b[39m\u001b[38;5;124m\"\u001b[39m:\n\u001b[1;32m---> 70\u001b[0m     edit()\n\u001b[0;32m     71\u001b[0m \u001b[38;5;28;01melif\u001b[39;00m command \u001b[38;5;241m==\u001b[39m \u001b[38;5;124m\"\u001b[39m\u001b[38;5;124mexit\u001b[39m\u001b[38;5;124m\"\u001b[39m:\n\u001b[0;32m     72\u001b[0m     \u001b[38;5;28mprint\u001b[39m(\u001b[38;5;124m\"\u001b[39m\u001b[38;5;130;01m\\n\u001b[39;00m\u001b[38;5;124mBye!\u001b[39m\u001b[38;5;124m\"\u001b[39m)\n",
      "Cell \u001b[1;32mIn[34], line 34\u001b[0m, in \u001b[0;36medit\u001b[1;34m()\u001b[0m\n\u001b[0;32m     32\u001b[0m \u001b[38;5;28;01mwhile\u001b[39;00m looping \u001b[38;5;241m==\u001b[39m \u001b[38;5;28;01mTrue\u001b[39;00m:\n\u001b[0;32m     33\u001b[0m     month \u001b[38;5;241m=\u001b[39m \u001b[38;5;28mstr\u001b[39m(\u001b[38;5;28minput\u001b[39m(\u001b[38;5;124m\"\u001b[39m\u001b[38;5;124mThree-letter Month:\u001b[39m\u001b[38;5;124m\"\u001b[39m))\n\u001b[1;32m---> 34\u001b[0m     amount \u001b[38;5;241m=\u001b[39m \u001b[38;5;28mint\u001b[39m(\u001b[38;5;28minput\u001b[39m(\u001b[38;5;124m\"\u001b[39m\u001b[38;5;124mSales Amount:\u001b[39m\u001b[38;5;124m\"\u001b[39m))\n\u001b[0;32m     36\u001b[0m     \u001b[38;5;66;03m#print(months)\u001b[39;00m\n\u001b[0;32m     37\u001b[0m     index \u001b[38;5;241m=\u001b[39m \u001b[38;5;241m0\u001b[39m\n",
      "\u001b[1;31mValueError\u001b[0m: invalid literal for int() with base 10: 'a'"
     ]
    }
   ],
   "source": [
    "### CODE HERE ###\n",
    "import csv\n",
    "\n",
    "def monthly():\n",
    "    with open(\"monthly_sales.csv\", newline=\"\") as file:\n",
    "        reader = csv.reader(file)\n",
    "        for row in reader:\n",
    "            print(row[0] + \" - \" + str(row[1]))\n",
    "    \n",
    "def yearly():\n",
    "    total = 0\n",
    "    months = 0\n",
    "    average = 0\n",
    "    with open(\"monthly_sales.csv\", newline=\"\") as file:\n",
    "        reader = csv.reader(file)\n",
    "        for row in reader:\n",
    "            total += int(row[1])\n",
    "            months += 1\n",
    "    average = total / months\n",
    "    print(\"Yearly total:\", total)\n",
    "    print(\"Monthly average:\", round(average, 2))\n",
    "\n",
    "    \n",
    "def edit():\n",
    "    months = []\n",
    "    with open(\"monthly_sales.csv\", newline=\"\") as file:\n",
    "        reader = csv.reader(file)\n",
    "        for row in reader:\n",
    "            months.append(row)\n",
    "    \n",
    "    looping = True\n",
    "    while looping == True:\n",
    "        month = str(input(\"Three-letter Month:\"))\n",
    "        amount = int(input(\"Sales Amount:\"))\n",
    "\n",
    "        #print(months)\n",
    "        index = 0\n",
    "\n",
    "        for m in months:\n",
    "            if m[0] == month:\n",
    "                #print(index, m[1])\n",
    "                looping = False\n",
    "                monthToChange = months[index]\n",
    "                monthToChange[1] = amount\n",
    "            index += 1\n",
    "        if looping == True:\n",
    "            print(\"Invalid Input\")\n",
    "    #print(months)\n",
    "    with open(\"monthly_sales.csv\", \"w\", newline=\"\") as file:\n",
    "        writer = csv.writer(file)\n",
    "        writer.writerows(months)\n",
    "    print(\"Sales amount for\", month, \"was modified.\")\n",
    "\n",
    "            \n",
    "print(\"Monthly Sales program\")\n",
    "print(\"COMMAND MENU\")\n",
    "print(\"monthly - View monthly sales\")\n",
    "print(\"yearly \\t- View yearly sumary\")\n",
    "print(\"edit \\t- Edit sales for a month\")\n",
    "print(\"exit \\t- Exit program\")\n",
    "\n",
    "command = \"\"\n",
    "while command != \"exit\":\n",
    "    command = input(\"\\nCommand: \")\n",
    "    if command == \"monthly\":\n",
    "        monthly()\n",
    "    elif command == \"yearly\":\n",
    "        yearly()\n",
    "    elif command == \"edit\":\n",
    "        edit()\n",
    "    elif command == \"exit\":\n",
    "        print(\"\\nBye!\")\n",
    "    else:\n",
    "        print(\"\\nInvalid input.\")"
   ]
  },
  {
   "cell_type": "code",
   "execution_count": null,
   "metadata": {},
   "outputs": [],
   "source": []
  }
 ],
 "metadata": {
  "kernelspec": {
   "display_name": "Python 3 (ipykernel)",
   "language": "python",
   "name": "python3"
  },
  "language_info": {
   "codemirror_mode": {
    "name": "ipython",
    "version": 3
   },
   "file_extension": ".py",
   "mimetype": "text/x-python",
   "name": "python",
   "nbconvert_exporter": "python",
   "pygments_lexer": "ipython3",
   "version": "3.11.5"
  }
 },
 "nbformat": 4,
 "nbformat_minor": 4
}
